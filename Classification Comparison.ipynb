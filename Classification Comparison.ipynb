{
 "cells": [
  {
   "cell_type": "code",
   "execution_count": 1,
   "metadata": {},
   "outputs": [
    {
     "name": "stdout",
     "output_type": "stream",
     "text": [
      "GaussianNB works best with the accuracy of 0.727272727273\n"
     ]
    }
   ],
   "source": [
    "from sklearn import tree, neighbors, svm, naive_bayes\n",
    "from sklearn.metrics import accuracy_score\n",
    "\n",
    "clf = tree.DecisionTreeClassifier()\n",
    "\n",
    "## CHALLENGE - create 3 more classifiers...\n",
    "clf1 = neighbors.KNeighborsClassifier()\n",
    "clf2 = svm.SVC()\n",
    "clf3 = naive_bayes.GaussianNB()\n",
    "\n",
    "#[height, weight, shoe_size]\n",
    "X = [[181, 80, 44], [177, 70, 43], [160, 60, 38], [154, 54, 37], [166, 65, 40], [190, 90, 47], [175, 64, 39],\n",
    "     [177, 70, 40], [159, 55, 37], [171, 75, 42], [181, 85, 43]]\n",
    "\n",
    "Y = ['male', 'male', 'female', 'female', 'male', 'male', 'female', 'female', 'female', 'male', 'male']\n",
    "\n",
    "#TEST DATA[height, weight, shoe_size]\n",
    "test_X = [[179, 90, 44], [190, 88, 44], [165, 55, 37], [160, 60, 39], [156, 56, 36], [181, 85, 43], [174, 66, 40],\n",
    "     [177, 70, 43], [159, 66, 47], [188, 100, 44], [179, 84, 47]]\n",
    "\n",
    "test_Y = ['male', 'male', 'female', 'female', 'male', 'male', 'female', 'female', 'female', 'male', 'male']\n",
    "\n",
    "#CHALLENGE - ...and train them on our data\n",
    "clf = clf.fit(X, Y)\n",
    "clf1 = clf1.fit(X, Y)\n",
    "clf2 = clf2.fit(X, Y)\n",
    "clf3 = clf3.fit(X, Y)\n",
    "\n",
    "#CHALLENGE compare their results and print the best one!\n",
    "prediction = clf.predict(test_X)\n",
    "prediction1 = clf1.predict(test_X)\n",
    "prediction2 = clf2.predict(test_X)\n",
    "prediction3 = clf3.predict(test_X)\n",
    "\n",
    "accuracy = {'name' : 'DecisionTreeClassifier', 'accuracy' : accuracy_score(test_Y, prediction)}\n",
    "accuracy1 = {'name' : 'KNeighborsClassifier', 'accuracy' : accuracy_score(test_Y, prediction1)}\n",
    "accuracy2 = {'name' : 'SVC', 'accuracy' : accuracy_score(test_Y, prediction2)}\n",
    "accuracy3 = {'name' : 'GaussianNB', 'accuracy' : accuracy_score(test_Y, prediction3)}\n",
    "\n",
    "if (accuracy['accuracy'] > accuracy1['accuracy'] > accuracy2['accuracy']) and (accuracy['accuracy'] > accuracy1['accuracy'] > accuracy3['accuracy']):\n",
    "   best = accuracy\n",
    "elif (accuracy1['accuracy'] > accuracy2['accuracy']) and (accuracy1['accuracy'] > accuracy3['accuracy']):\n",
    "   best = accuracy1\n",
    "elif (accuracy2['accuracy'] > accuracy1['accuracy']) and (accuracy2['accuracy'] > accuracy3['accuracy']):\n",
    "   best = accuracy2\n",
    "else:\n",
    "   best = accuracy3\n",
    "\n",
    "print(best['name'], \"works best with the accuracy of\", best['accuracy'])"
   ]
  }
 ],
 "metadata": {
  "kernelspec": {
   "display_name": "Python 3",
   "language": "python",
   "name": "python3"
  },
  "language_info": {
   "codemirror_mode": {
    "name": "ipython",
    "version": 3
   },
   "file_extension": ".py",
   "mimetype": "text/x-python",
   "name": "python",
   "nbconvert_exporter": "python",
   "pygments_lexer": "ipython3",
   "version": "3.5.3"
  }
 },
 "nbformat": 4,
 "nbformat_minor": 2
}
